{
 "cells": [
  {
   "cell_type": "code",
   "execution_count": 46,
   "metadata": {},
   "outputs": [],
   "source": [
    "from scipy import sparse\n",
    "from scipy import linalg\n",
    "import numpy as np\n",
    "import pandas as pd"
   ]
  },
  {
   "cell_type": "code",
   "execution_count": 47,
   "metadata": {},
   "outputs": [],
   "source": [
    "arr = [ [0.0, 0.8, 0.6, 0.1, 0.0, 0.0], \n",
    "        [0.8, 0.0, 0.9, 0.0, 0.0, 0.0], \n",
    "        [0.6, 0.9, 0.0, 0.0, 0.0, 0.2], \n",
    "        [0.1, 0.0, 0.0, 0.0, 0.6, 0.7], \n",
    "        [0.0, 0.0, 0.0, 0.6, 0.0, 0.8], \n",
    "        [0.0, 0.0, 0.2, 0.7, 0.8, 0.0]]\n",
    "arr = np.array(arr)"
   ]
  },
  {
   "cell_type": "code",
   "execution_count": 51,
   "metadata": {},
   "outputs": [
    {
     "name": "stdout",
     "output_type": "stream",
     "text": [
      "[[0.  0.8 0.6 0.1 0.  0. ]\n",
      " [0.8 0.  0.9 0.  0.  0. ]\n",
      " [0.6 0.9 0.  0.  0.  0.2]\n",
      " [0.1 0.  0.  0.  0.6 0.7]\n",
      " [0.  0.  0.  0.6 0.  0.8]\n",
      " [0.  0.  0.2 0.7 0.8 0. ]]\n",
      "                               0      1      2      3      4      5\n",
      "(1.5944077858105132+0j)   -0.479 -0.253 -0.173  0.461 -0.570 -0.373\n",
      "(1.3546893778605615+0j)   -0.533 -0.309  0.651 -0.438  0.056 -0.034\n",
      "(-0.9927194908153985+0j)  -0.519 -0.240 -0.565 -0.005  0.477  0.356\n",
      "(-0.8320768505272272+0j)  -0.255  0.484 -0.107 -0.303 -0.561  0.532\n",
      "(-0.48211773069469743+0j) -0.247  0.524 -0.251 -0.366  0.185 -0.658\n",
      "(-0.6421830916337516+0j)  -0.301  0.524  0.391  0.608  0.309  0.129\n"
     ]
    }
   ],
   "source": [
    "eigenvalue, eigenvector = linalg.eig(arr)\n",
    "print(arr)\n",
    "df = pd.DataFrame(data = eigenvector, index = eigenvalue)\n",
    "df = df.round(3)\n",
    "print(df)"
   ]
  }
 ],
 "metadata": {
  "kernelspec": {
   "display_name": "Python 3",
   "language": "python",
   "name": "python3"
  },
  "language_info": {
   "codemirror_mode": {
    "name": "ipython",
    "version": 3
   },
   "file_extension": ".py",
   "mimetype": "text/x-python",
   "name": "python",
   "nbconvert_exporter": "python",
   "pygments_lexer": "ipython3",
   "version": "3.10.9 (tags/v3.10.9:1dd9be6, Dec  6 2022, 20:01:21) [MSC v.1934 64 bit (AMD64)]"
  },
  "orig_nbformat": 4,
  "vscode": {
   "interpreter": {
    "hash": "72a7f093bdaec1fd4828a73681f20d02bdf6ea3ec98e39b596ecf2769ac9ebc8"
   }
  }
 },
 "nbformat": 4,
 "nbformat_minor": 2
}
