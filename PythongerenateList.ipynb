{
 "cells": [
  {
   "cell_type": "code",
   "execution_count": 6,
   "metadata": {},
   "outputs": [
    {
     "name": "stdout",
     "output_type": "stream",
     "text": [
      "[[0.0, 0.8, 0.6, 0.1, 0.0, 0.0], [0.8, 0.0, 0.9, 0.0, 0.0, 0.0], [0.6, 0.9, 0.0, 0.0, 0.0, 0.2], [0.1, 0.0, 0.0, 0.0, 0.6, 0.7], [0.0, 0.0, 0.0, 0.6, 0.0, 0.8], [0.0, 0.0, 0.2, 0.7, 0.8, 0.0]]\n"
     ]
    }
   ],
   "source": [
    "str = input()\n",
    "rows = str.split(',')\n",
    "Adjmatrix = []\n",
    "index = 0\n",
    "for row in rows:\n",
    "    Adjmatrix.append([])\n",
    "    cells = row.split()\n",
    "    for cell in cells:\n",
    "        Adjmatrix[index].append(float(cell))\n",
    "    index+=1\n",
    "print(Adjmatrix)"
   ]
  },
  {
   "cell_type": "code",
   "execution_count": null,
   "metadata": {},
   "outputs": [],
   "source": [
    "str = input()\n",
    "rows = str.split(',')\n",
    "Adjmatrix = []\n",
    "index = 0\n",
    "for row in rows:\n",
    "    Adjmatrix.append([])\n",
    "    cells = row.split()\n",
    "    for cell in cells:\n",
    "        Adjmatrix[index].append(float(cell))\n",
    "    index+=1\n",
    "print(Adjmatrix)"
   ]
  }
 ],
 "metadata": {
  "kernelspec": {
   "display_name": "Python 3",
   "language": "python",
   "name": "python3"
  },
  "language_info": {
   "codemirror_mode": {
    "name": "ipython",
    "version": 3
   },
   "file_extension": ".py",
   "mimetype": "text/x-python",
   "name": "python",
   "nbconvert_exporter": "python",
   "pygments_lexer": "ipython3",
   "version": "3.10.9"
  },
  "orig_nbformat": 4,
  "vscode": {
   "interpreter": {
    "hash": "72a7f093bdaec1fd4828a73681f20d02bdf6ea3ec98e39b596ecf2769ac9ebc8"
   }
  }
 },
 "nbformat": 4,
 "nbformat_minor": 2
}
